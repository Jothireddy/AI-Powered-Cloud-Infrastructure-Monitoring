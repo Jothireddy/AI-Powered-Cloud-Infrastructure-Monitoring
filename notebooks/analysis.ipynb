{
 "cells": [
  {
   "cell_type": "code",
   "execution_count": null,
   "metadata": {
    "vscode": {
     "languageId": "plaintext"
    }
   },
   "outputs": [],
   "source": [
    "# notebooks/analysis.ipynb\n",
    "# This notebook can be used to analyze log data and evaluate anomaly detection results\n",
    "\n",
    "import pandas as pd\n",
    "import matplotlib.pyplot as plt\n",
    "\n",
    "# Load sample processed log data (ensure this file exists in your processed data bucket or local environment)\n",
    "df = pd.read_csv(\"processed_logs.csv\")\n",
    "\n",
    "# Display basic statistics\n",
    "print(df.describe())\n",
    "\n",
    "# Plot a sample graph (e.g., log volume over time)\n",
    "df['timestamp'] = pd.to_datetime(df['timestamp'])\n",
    "df.set_index('timestamp', inplace=True)\n",
    "df.resample('H').size().plot()\n",
    "plt.title(\"Log Volume per Hour\")\n",
    "plt.xlabel(\"Time\")\n",
    "plt.ylabel(\"Number of Logs\")\n",
    "plt.show()\n"
   ]
  }
 ],
 "metadata": {
  "language_info": {
   "name": "python"
  }
 },
 "nbformat": 4,
 "nbformat_minor": 2
}
